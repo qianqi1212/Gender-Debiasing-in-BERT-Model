{
 "cells": [
  {
   "cell_type": "code",
   "execution_count": 4,
   "metadata": {},
   "outputs": [
    {
     "name": "stdout",
     "output_type": "stream",
     "text": [
      "Requirement already satisfied: allennlp==2.7.0 in /opt/anaconda3/envs/EECS487proj/lib/python3.6/site-packages (from -r requirements.txt (line 1)) (2.7.0)\n",
      "Requirement already satisfied: docopt==0.6.2 in /opt/anaconda3/envs/EECS487proj/lib/python3.6/site-packages (from -r requirements.txt (line 2)) (0.6.2)\n",
      "Requirement already satisfied: gensim==4.1.2 in /opt/anaconda3/envs/EECS487proj/lib/python3.6/site-packages (from -r requirements.txt (line 3)) (4.1.2)\n",
      "Requirement already satisfied: matplotlib==3.3.4 in /opt/anaconda3/envs/EECS487proj/lib/python3.6/site-packages (from -r requirements.txt (line 4)) (3.3.4)\n",
      "Requirement already satisfied: numpy==1.19.5 in /opt/anaconda3/envs/EECS487proj/lib/python3.6/site-packages (from -r requirements.txt (line 5)) (1.19.5)\n",
      "Requirement already satisfied: overrides==3.1.0 in /opt/anaconda3/envs/EECS487proj/lib/python3.6/site-packages (from -r requirements.txt (line 6)) (3.1.0)\n",
      "Requirement already satisfied: pandas==0.22.0 in /opt/anaconda3/envs/EECS487proj/lib/python3.6/site-packages (from -r requirements.txt (line 7)) (0.22.0)\n",
      "Requirement already satisfied: pytorch_lightning==1.4.9 in /opt/anaconda3/envs/EECS487proj/lib/python3.6/site-packages (from -r requirements.txt (line 8)) (1.4.9)\n",
      "Requirement already satisfied: scikit-learn==0.24.2 in /opt/anaconda3/envs/EECS487proj/lib/python3.6/site-packages (from -r requirements.txt (line 9)) (0.24.2)\n",
      "Requirement already satisfied: scipy==1.5.4 in /opt/anaconda3/envs/EECS487proj/lib/python3.6/site-packages (from -r requirements.txt (line 10)) (1.5.4)\n",
      "Requirement already satisfied: spacy==3.1.3 in /opt/anaconda3/envs/EECS487proj/lib/python3.6/site-packages (from -r requirements.txt (line 11)) (3.1.3)\n",
      "Requirement already satisfied: torch==1.9.1 in /opt/anaconda3/envs/EECS487proj/lib/python3.6/site-packages (from -r requirements.txt (line 12)) (1.9.1)\n",
      "Requirement already satisfied: tqdm==4.62.3 in /opt/anaconda3/envs/EECS487proj/lib/python3.6/site-packages (from -r requirements.txt (line 13)) (4.62.3)\n",
      "Requirement already satisfied: transformers==4.9.2 in /opt/anaconda3/envs/EECS487proj/lib/python3.6/site-packages (from -r requirements.txt (line 14)) (4.9.2)\n",
      "Requirement already satisfied: tensorboardX>=1.2 in /opt/anaconda3/envs/EECS487proj/lib/python3.6/site-packages (from allennlp==2.7.0->-r requirements.txt (line 1)) (2.5)\n",
      "Requirement already satisfied: more-itertools in /opt/anaconda3/envs/EECS487proj/lib/python3.6/site-packages (from allennlp==2.7.0->-r requirements.txt (line 1)) (8.12.0)\n",
      "Requirement already satisfied: requests>=2.18 in /opt/anaconda3/envs/EECS487proj/lib/python3.6/site-packages (from allennlp==2.7.0->-r requirements.txt (line 1)) (2.27.1)\n",
      "Requirement already satisfied: filelock<3.1,>=3.0 in /opt/anaconda3/envs/EECS487proj/lib/python3.6/site-packages (from allennlp==2.7.0->-r requirements.txt (line 1)) (3.0.12)\n",
      "Requirement already satisfied: termcolor==1.1.0 in /opt/anaconda3/envs/EECS487proj/lib/python3.6/site-packages (from allennlp==2.7.0->-r requirements.txt (line 1)) (1.1.0)\n",
      "Requirement already satisfied: dill in /opt/anaconda3/envs/EECS487proj/lib/python3.6/site-packages (from allennlp==2.7.0->-r requirements.txt (line 1)) (0.3.4)\n",
      "Requirement already satisfied: jsonnet>=0.10.0 in /opt/anaconda3/envs/EECS487proj/lib/python3.6/site-packages (from allennlp==2.7.0->-r requirements.txt (line 1)) (0.18.0)\n",
      "Requirement already satisfied: nltk in /opt/anaconda3/envs/EECS487proj/lib/python3.6/site-packages (from allennlp==2.7.0->-r requirements.txt (line 1)) (3.6.7)\n",
      "Requirement already satisfied: torchvision<0.11.0,>=0.8.1 in /opt/anaconda3/envs/EECS487proj/lib/python3.6/site-packages (from allennlp==2.7.0->-r requirements.txt (line 1)) (0.10.1)\n",
      "Requirement already satisfied: wandb<0.13.0,>=0.10.0 in /opt/anaconda3/envs/EECS487proj/lib/python3.6/site-packages (from allennlp==2.7.0->-r requirements.txt (line 1)) (0.12.11)\n",
      "Requirement already satisfied: google-cloud-storage<1.43.0,>=1.38.0 in /opt/anaconda3/envs/EECS487proj/lib/python3.6/site-packages (from allennlp==2.7.0->-r requirements.txt (line 1)) (1.42.3)\n",
      "Requirement already satisfied: boto3<2.0,>=1.14 in /opt/anaconda3/envs/EECS487proj/lib/python3.6/site-packages (from allennlp==2.7.0->-r requirements.txt (line 1)) (1.21.31)\n",
      "Requirement already satisfied: h5py in /opt/anaconda3/envs/EECS487proj/lib/python3.6/site-packages (from allennlp==2.7.0->-r requirements.txt (line 1)) (3.1.0)\n",
      "Requirement already satisfied: pytest in /opt/anaconda3/envs/EECS487proj/lib/python3.6/site-packages (from allennlp==2.7.0->-r requirements.txt (line 1)) (7.0.1)\n",
      "Requirement already satisfied: fairscale==0.4.0 in /opt/anaconda3/envs/EECS487proj/lib/python3.6/site-packages (from allennlp==2.7.0->-r requirements.txt (line 1)) (0.4.0)\n",
      "Requirement already satisfied: sentencepiece in /opt/anaconda3/envs/EECS487proj/lib/python3.6/site-packages (from allennlp==2.7.0->-r requirements.txt (line 1)) (0.1.96)\n",
      "Requirement already satisfied: datasets<2.0,>=1.2.1 in /opt/anaconda3/envs/EECS487proj/lib/python3.6/site-packages (from allennlp==2.7.0->-r requirements.txt (line 1)) (1.11.0)\n",
      "Requirement already satisfied: lmdb in /opt/anaconda3/envs/EECS487proj/lib/python3.6/site-packages (from allennlp==2.7.0->-r requirements.txt (line 1)) (1.3.0)\n",
      "Requirement already satisfied: base58 in /opt/anaconda3/envs/EECS487proj/lib/python3.6/site-packages (from allennlp==2.7.0->-r requirements.txt (line 1)) (2.1.1)\n",
      "Requirement already satisfied: checklist==0.0.11 in /opt/anaconda3/envs/EECS487proj/lib/python3.6/site-packages (from allennlp==2.7.0->-r requirements.txt (line 1)) (0.0.11)\n",
      "Requirement already satisfied: huggingface-hub>=0.0.8 in /opt/anaconda3/envs/EECS487proj/lib/python3.6/site-packages (from allennlp==2.7.0->-r requirements.txt (line 1)) (0.0.12)\n",
      "Requirement already satisfied: sqlitedict in /opt/anaconda3/envs/EECS487proj/lib/python3.6/site-packages (from allennlp==2.7.0->-r requirements.txt (line 1)) (2.0.0)\n",
      "Requirement already satisfied: dataclasses in /opt/anaconda3/envs/EECS487proj/lib/python3.6/site-packages (from allennlp==2.7.0->-r requirements.txt (line 1)) (0.8)\n",
      "Requirement already satisfied: smart-open>=1.8.1 in /opt/anaconda3/envs/EECS487proj/lib/python3.6/site-packages (from gensim==4.1.2->-r requirements.txt (line 3)) (5.2.1)\n",
      "Requirement already satisfied: python-dateutil>=2.1 in /opt/anaconda3/envs/EECS487proj/lib/python3.6/site-packages (from matplotlib==3.3.4->-r requirements.txt (line 4)) (2.8.2)\n",
      "Requirement already satisfied: cycler>=0.10 in /opt/anaconda3/envs/EECS487proj/lib/python3.6/site-packages (from matplotlib==3.3.4->-r requirements.txt (line 4)) (0.11.0)\n",
      "Requirement already satisfied: kiwisolver>=1.0.1 in /opt/anaconda3/envs/EECS487proj/lib/python3.6/site-packages (from matplotlib==3.3.4->-r requirements.txt (line 4)) (1.3.1)\n",
      "Requirement already satisfied: pyparsing!=2.0.4,!=2.1.2,!=2.1.6,>=2.0.3 in /opt/anaconda3/envs/EECS487proj/lib/python3.6/site-packages (from matplotlib==3.3.4->-r requirements.txt (line 4)) (3.0.7)\n",
      "Requirement already satisfied: pillow>=6.2.0 in /opt/anaconda3/envs/EECS487proj/lib/python3.6/site-packages (from matplotlib==3.3.4->-r requirements.txt (line 4)) (8.4.0)\n",
      "Requirement already satisfied: pytz>=2011k in /opt/anaconda3/envs/EECS487proj/lib/python3.6/site-packages (from pandas==0.22.0->-r requirements.txt (line 7)) (2022.1)\n",
      "Requirement already satisfied: tensorboard>=2.2.0 in /opt/anaconda3/envs/EECS487proj/lib/python3.6/site-packages (from pytorch_lightning==1.4.9->-r requirements.txt (line 8)) (2.8.0)\n",
      "Requirement already satisfied: packaging>=17.0 in /opt/anaconda3/envs/EECS487proj/lib/python3.6/site-packages (from pytorch_lightning==1.4.9->-r requirements.txt (line 8)) (21.3)\n",
      "Requirement already satisfied: future>=0.17.1 in /opt/anaconda3/envs/EECS487proj/lib/python3.6/site-packages (from pytorch_lightning==1.4.9->-r requirements.txt (line 8)) (0.18.2)\n",
      "Requirement already satisfied: pyDeprecate==0.3.1 in /opt/anaconda3/envs/EECS487proj/lib/python3.6/site-packages (from pytorch_lightning==1.4.9->-r requirements.txt (line 8)) (0.3.1)\n",
      "Requirement already satisfied: PyYAML>=5.1 in /opt/anaconda3/envs/EECS487proj/lib/python3.6/site-packages (from pytorch_lightning==1.4.9->-r requirements.txt (line 8)) (6.0)\n",
      "Requirement already satisfied: fsspec[http]!=2021.06.0,>=2021.05.0 in /opt/anaconda3/envs/EECS487proj/lib/python3.6/site-packages (from pytorch_lightning==1.4.9->-r requirements.txt (line 8)) (2022.1.0)\n",
      "Requirement already satisfied: typing-extensions in /opt/anaconda3/envs/EECS487proj/lib/python3.6/site-packages (from pytorch_lightning==1.4.9->-r requirements.txt (line 8)) (3.10.0.2)\n",
      "Requirement already satisfied: torchmetrics>=0.4.0 in /opt/anaconda3/envs/EECS487proj/lib/python3.6/site-packages (from pytorch_lightning==1.4.9->-r requirements.txt (line 8)) (0.7.3)\n",
      "Requirement already satisfied: joblib>=0.11 in /opt/anaconda3/envs/EECS487proj/lib/python3.6/site-packages (from scikit-learn==0.24.2->-r requirements.txt (line 9)) (1.1.0)\n",
      "Requirement already satisfied: threadpoolctl>=2.0.0 in /opt/anaconda3/envs/EECS487proj/lib/python3.6/site-packages (from scikit-learn==0.24.2->-r requirements.txt (line 9)) (3.1.0)\n",
      "Requirement already satisfied: srsly<3.0.0,>=2.4.1 in /opt/anaconda3/envs/EECS487proj/lib/python3.6/site-packages (from spacy==3.1.3->-r requirements.txt (line 11)) (2.4.2)\n",
      "Requirement already satisfied: wasabi<1.1.0,>=0.8.1 in /opt/anaconda3/envs/EECS487proj/lib/python3.6/site-packages (from spacy==3.1.3->-r requirements.txt (line 11)) (0.9.1)\n",
      "Requirement already satisfied: preshed<3.1.0,>=3.0.2 in /opt/anaconda3/envs/EECS487proj/lib/python3.6/site-packages (from spacy==3.1.3->-r requirements.txt (line 11)) (3.0.6)\n",
      "Requirement already satisfied: typer<0.5.0,>=0.3.0 in /opt/anaconda3/envs/EECS487proj/lib/python3.6/site-packages (from spacy==3.1.3->-r requirements.txt (line 11)) (0.4.1)\n",
      "Requirement already satisfied: thinc<8.1.0,>=8.0.9 in /opt/anaconda3/envs/EECS487proj/lib/python3.6/site-packages (from spacy==3.1.3->-r requirements.txt (line 11)) (8.0.15)\n",
      "Requirement already satisfied: pathy>=0.3.5 in /opt/anaconda3/envs/EECS487proj/lib/python3.6/site-packages (from spacy==3.1.3->-r requirements.txt (line 11)) (0.6.1)\n",
      "Requirement already satisfied: cymem<2.1.0,>=2.0.2 in /opt/anaconda3/envs/EECS487proj/lib/python3.6/site-packages (from spacy==3.1.3->-r requirements.txt (line 11)) (2.0.6)\n",
      "Requirement already satisfied: jinja2 in /opt/anaconda3/envs/EECS487proj/lib/python3.6/site-packages (from spacy==3.1.3->-r requirements.txt (line 11)) (3.0.3)\n",
      "Requirement already satisfied: spacy-legacy<3.1.0,>=3.0.8 in /opt/anaconda3/envs/EECS487proj/lib/python3.6/site-packages (from spacy==3.1.3->-r requirements.txt (line 11)) (3.0.9)\n",
      "Requirement already satisfied: pydantic!=1.8,!=1.8.1,<1.9.0,>=1.7.4 in /opt/anaconda3/envs/EECS487proj/lib/python3.6/site-packages (from spacy==3.1.3->-r requirements.txt (line 11)) (1.8.2)\n",
      "Requirement already satisfied: setuptools in /opt/anaconda3/envs/EECS487proj/lib/python3.6/site-packages (from spacy==3.1.3->-r requirements.txt (line 11)) (58.0.4)\n",
      "Requirement already satisfied: murmurhash<1.1.0,>=0.28.0 in /opt/anaconda3/envs/EECS487proj/lib/python3.6/site-packages (from spacy==3.1.3->-r requirements.txt (line 11)) (1.0.6)\n",
      "Requirement already satisfied: catalogue<2.1.0,>=2.0.6 in /opt/anaconda3/envs/EECS487proj/lib/python3.6/site-packages (from spacy==3.1.3->-r requirements.txt (line 11)) (2.0.7)\n",
      "Requirement already satisfied: blis<0.8.0,>=0.4.0 in /opt/anaconda3/envs/EECS487proj/lib/python3.6/site-packages (from spacy==3.1.3->-r requirements.txt (line 11)) (0.7.7)\n",
      "Requirement already satisfied: sacremoses in /opt/anaconda3/envs/EECS487proj/lib/python3.6/site-packages (from transformers==4.9.2->-r requirements.txt (line 14)) (0.0.49)\n",
      "Requirement already satisfied: importlib-metadata in /opt/anaconda3/envs/EECS487proj/lib/python3.6/site-packages (from transformers==4.9.2->-r requirements.txt (line 14)) (4.8.3)\n",
      "Requirement already satisfied: tokenizers<0.11,>=0.10.1 in /opt/anaconda3/envs/EECS487proj/lib/python3.6/site-packages (from transformers==4.9.2->-r requirements.txt (line 14)) (0.10.3)\n",
      "Requirement already satisfied: regex!=2019.12.17 in /opt/anaconda3/envs/EECS487proj/lib/python3.6/site-packages (from transformers==4.9.2->-r requirements.txt (line 14)) (2022.3.15)\n",
      "Requirement already satisfied: jupyter>=1.0 in /opt/anaconda3/envs/EECS487proj/lib/python3.6/site-packages (from checklist==0.0.11->allennlp==2.7.0->-r requirements.txt (line 1)) (1.0.0)\n",
      "Requirement already satisfied: patternfork-nosql in /opt/anaconda3/envs/EECS487proj/lib/python3.6/site-packages (from checklist==0.0.11->allennlp==2.7.0->-r requirements.txt (line 1)) (3.6)\n",
      "Requirement already satisfied: iso-639 in /opt/anaconda3/envs/EECS487proj/lib/python3.6/site-packages (from checklist==0.0.11->allennlp==2.7.0->-r requirements.txt (line 1)) (0.4.5)\n",
      "Requirement already satisfied: munch>=2.5 in /opt/anaconda3/envs/EECS487proj/lib/python3.6/site-packages (from checklist==0.0.11->allennlp==2.7.0->-r requirements.txt (line 1)) (2.5.0)\n",
      "Requirement already satisfied: ipywidgets>=7.5 in /opt/anaconda3/envs/EECS487proj/lib/python3.6/site-packages (from checklist==0.0.11->allennlp==2.7.0->-r requirements.txt (line 1)) (7.7.0)\n",
      "Requirement already satisfied: s3transfer<0.6.0,>=0.5.0 in /opt/anaconda3/envs/EECS487proj/lib/python3.6/site-packages (from boto3<2.0,>=1.14->allennlp==2.7.0->-r requirements.txt (line 1)) (0.5.2)\n",
      "Requirement already satisfied: botocore<1.25.0,>=1.24.31 in /opt/anaconda3/envs/EECS487proj/lib/python3.6/site-packages (from boto3<2.0,>=1.14->allennlp==2.7.0->-r requirements.txt (line 1)) (1.24.31)\n",
      "Requirement already satisfied: jmespath<2.0.0,>=0.7.1 in /opt/anaconda3/envs/EECS487proj/lib/python3.6/site-packages (from boto3<2.0,>=1.14->allennlp==2.7.0->-r requirements.txt (line 1)) (0.10.0)\n",
      "Requirement already satisfied: urllib3<1.27,>=1.25.4 in /opt/anaconda3/envs/EECS487proj/lib/python3.6/site-packages (from botocore<1.25.0,>=1.24.31->boto3<2.0,>=1.14->allennlp==2.7.0->-r requirements.txt (line 1)) (1.26.9)\n",
      "Requirement already satisfied: zipp>=0.5 in /opt/anaconda3/envs/EECS487proj/lib/python3.6/site-packages (from catalogue<2.1.0,>=2.0.6->spacy==3.1.3->-r requirements.txt (line 11)) (3.6.0)\n",
      "Requirement already satisfied: pyarrow!=4.0.0,>=1.0.0 in /opt/anaconda3/envs/EECS487proj/lib/python3.6/site-packages (from datasets<2.0,>=1.2.1->allennlp==2.7.0->-r requirements.txt (line 1)) (6.0.1)\n",
      "Requirement already satisfied: xxhash in /opt/anaconda3/envs/EECS487proj/lib/python3.6/site-packages (from datasets<2.0,>=1.2.1->allennlp==2.7.0->-r requirements.txt (line 1)) (3.0.0)\n",
      "Requirement already satisfied: multiprocess in /opt/anaconda3/envs/EECS487proj/lib/python3.6/site-packages (from datasets<2.0,>=1.2.1->allennlp==2.7.0->-r requirements.txt (line 1)) (0.70.12.2)\n",
      "Requirement already satisfied: aiohttp in /opt/anaconda3/envs/EECS487proj/lib/python3.6/site-packages (from fsspec[http]!=2021.06.0,>=2021.05.0->pytorch_lightning==1.4.9->-r requirements.txt (line 8)) (3.8.1)\n",
      "Requirement already satisfied: google-auth<3.0dev,>=1.25.0 in /opt/anaconda3/envs/EECS487proj/lib/python3.6/site-packages (from google-cloud-storage<1.43.0,>=1.38.0->allennlp==2.7.0->-r requirements.txt (line 1)) (2.6.2)\n",
      "Requirement already satisfied: six in /opt/anaconda3/envs/EECS487proj/lib/python3.6/site-packages (from google-cloud-storage<1.43.0,>=1.38.0->allennlp==2.7.0->-r requirements.txt (line 1)) (1.16.0)\n",
      "Requirement already satisfied: google-api-core<3.0dev,>=1.29.0 in /opt/anaconda3/envs/EECS487proj/lib/python3.6/site-packages (from google-cloud-storage<1.43.0,>=1.38.0->allennlp==2.7.0->-r requirements.txt (line 1)) (2.7.1)\n",
      "Requirement already satisfied: protobuf in /opt/anaconda3/envs/EECS487proj/lib/python3.6/site-packages (from google-cloud-storage<1.43.0,>=1.38.0->allennlp==2.7.0->-r requirements.txt (line 1)) (3.19.4)\n",
      "Requirement already satisfied: google-cloud-core<3.0dev,>=1.6.0 in /opt/anaconda3/envs/EECS487proj/lib/python3.6/site-packages (from google-cloud-storage<1.43.0,>=1.38.0->allennlp==2.7.0->-r requirements.txt (line 1)) (2.2.3)\n",
      "Requirement already satisfied: google-resumable-media<3.0dev,>=1.3.0 in /opt/anaconda3/envs/EECS487proj/lib/python3.6/site-packages (from google-cloud-storage<1.43.0,>=1.38.0->allennlp==2.7.0->-r requirements.txt (line 1)) (2.3.2)\n",
      "Requirement already satisfied: googleapis-common-protos<2.0dev,>=1.52.0 in /opt/anaconda3/envs/EECS487proj/lib/python3.6/site-packages (from google-api-core<3.0dev,>=1.29.0->google-cloud-storage<1.43.0,>=1.38.0->allennlp==2.7.0->-r requirements.txt (line 1)) (1.56.0)\n",
      "Requirement already satisfied: pyasn1-modules>=0.2.1 in /opt/anaconda3/envs/EECS487proj/lib/python3.6/site-packages (from google-auth<3.0dev,>=1.25.0->google-cloud-storage<1.43.0,>=1.38.0->allennlp==2.7.0->-r requirements.txt (line 1)) (0.2.8)\n",
      "Requirement already satisfied: rsa<5,>=3.1.4 in /opt/anaconda3/envs/EECS487proj/lib/python3.6/site-packages (from google-auth<3.0dev,>=1.25.0->google-cloud-storage<1.43.0,>=1.38.0->allennlp==2.7.0->-r requirements.txt (line 1)) (4.8)\n",
      "Requirement already satisfied: cachetools<6.0,>=2.0.0 in /opt/anaconda3/envs/EECS487proj/lib/python3.6/site-packages (from google-auth<3.0dev,>=1.25.0->google-cloud-storage<1.43.0,>=1.38.0->allennlp==2.7.0->-r requirements.txt (line 1)) (4.2.4)\n",
      "Requirement already satisfied: google-crc32c<2.0dev,>=1.0 in /opt/anaconda3/envs/EECS487proj/lib/python3.6/site-packages (from google-resumable-media<3.0dev,>=1.3.0->google-cloud-storage<1.43.0,>=1.38.0->allennlp==2.7.0->-r requirements.txt (line 1)) (1.3.0)\n",
      "Requirement already satisfied: traitlets>=4.3.1 in /opt/anaconda3/envs/EECS487proj/lib/python3.6/site-packages (from ipywidgets>=7.5->checklist==0.0.11->allennlp==2.7.0->-r requirements.txt (line 1)) (4.3.3)\n",
      "Requirement already satisfied: ipython>=4.0.0 in /opt/anaconda3/envs/EECS487proj/lib/python3.6/site-packages (from ipywidgets>=7.5->checklist==0.0.11->allennlp==2.7.0->-r requirements.txt (line 1)) (5.8.0)\n",
      "Requirement already satisfied: ipython-genutils~=0.2.0 in /opt/anaconda3/envs/EECS487proj/lib/python3.6/site-packages (from ipywidgets>=7.5->checklist==0.0.11->allennlp==2.7.0->-r requirements.txt (line 1)) (0.2.0)\n",
      "Requirement already satisfied: jupyterlab-widgets>=1.0.0 in /opt/anaconda3/envs/EECS487proj/lib/python3.6/site-packages (from ipywidgets>=7.5->checklist==0.0.11->allennlp==2.7.0->-r requirements.txt (line 1)) (1.1.0)\n",
      "Requirement already satisfied: nbformat>=4.2.0 in /opt/anaconda3/envs/EECS487proj/lib/python3.6/site-packages (from ipywidgets>=7.5->checklist==0.0.11->allennlp==2.7.0->-r requirements.txt (line 1)) (5.1.3)\n",
      "Requirement already satisfied: ipykernel>=4.5.1 in /opt/anaconda3/envs/EECS487proj/lib/python3.6/site-packages (from ipywidgets>=7.5->checklist==0.0.11->allennlp==2.7.0->-r requirements.txt (line 1)) (4.9.0)\n",
      "Requirement already satisfied: widgetsnbextension~=3.6.0 in /opt/anaconda3/envs/EECS487proj/lib/python3.6/site-packages (from ipywidgets>=7.5->checklist==0.0.11->allennlp==2.7.0->-r requirements.txt (line 1)) (3.6.0)\n",
      "Requirement already satisfied: jupyter_client in /opt/anaconda3/envs/EECS487proj/lib/python3.6/site-packages (from ipykernel>=4.5.1->ipywidgets>=7.5->checklist==0.0.11->allennlp==2.7.0->-r requirements.txt (line 1)) (7.1.2)\n",
      "Requirement already satisfied: tornado>=4.0 in /opt/anaconda3/envs/EECS487proj/lib/python3.6/site-packages (from ipykernel>=4.5.1->ipywidgets>=7.5->checklist==0.0.11->allennlp==2.7.0->-r requirements.txt (line 1)) (6.1)\n",
      "Requirement already satisfied: pickleshare in /opt/anaconda3/envs/EECS487proj/lib/python3.6/site-packages (from ipython>=4.0.0->ipywidgets>=7.5->checklist==0.0.11->allennlp==2.7.0->-r requirements.txt (line 1)) (0.7.5)\n",
      "Requirement already satisfied: prompt-toolkit<2.0.0,>=1.0.4 in /opt/anaconda3/envs/EECS487proj/lib/python3.6/site-packages (from ipython>=4.0.0->ipywidgets>=7.5->checklist==0.0.11->allennlp==2.7.0->-r requirements.txt (line 1)) (1.0.15)\n",
      "Requirement already satisfied: simplegeneric>0.8 in /opt/anaconda3/envs/EECS487proj/lib/python3.6/site-packages (from ipython>=4.0.0->ipywidgets>=7.5->checklist==0.0.11->allennlp==2.7.0->-r requirements.txt (line 1)) (0.8.1)\n",
      "Requirement already satisfied: appnope in /opt/anaconda3/envs/EECS487proj/lib/python3.6/site-packages (from ipython>=4.0.0->ipywidgets>=7.5->checklist==0.0.11->allennlp==2.7.0->-r requirements.txt (line 1)) (0.1.2)\n",
      "Requirement already satisfied: pygments in /opt/anaconda3/envs/EECS487proj/lib/python3.6/site-packages (from ipython>=4.0.0->ipywidgets>=7.5->checklist==0.0.11->allennlp==2.7.0->-r requirements.txt (line 1)) (2.11.2)\n",
      "Requirement already satisfied: pexpect in /opt/anaconda3/envs/EECS487proj/lib/python3.6/site-packages (from ipython>=4.0.0->ipywidgets>=7.5->checklist==0.0.11->allennlp==2.7.0->-r requirements.txt (line 1)) (4.8.0)\n",
      "Requirement already satisfied: decorator in /opt/anaconda3/envs/EECS487proj/lib/python3.6/site-packages (from ipython>=4.0.0->ipywidgets>=7.5->checklist==0.0.11->allennlp==2.7.0->-r requirements.txt (line 1)) (5.1.1)\n",
      "Requirement already satisfied: qtconsole in /opt/anaconda3/envs/EECS487proj/lib/python3.6/site-packages (from jupyter>=1.0->checklist==0.0.11->allennlp==2.7.0->-r requirements.txt (line 1)) (5.2.2)\n",
      "Requirement already satisfied: nbconvert in /opt/anaconda3/envs/EECS487proj/lib/python3.6/site-packages (from jupyter>=1.0->checklist==0.0.11->allennlp==2.7.0->-r requirements.txt (line 1)) (6.0.7)\n",
      "Requirement already satisfied: notebook in /opt/anaconda3/envs/EECS487proj/lib/python3.6/site-packages (from jupyter>=1.0->checklist==0.0.11->allennlp==2.7.0->-r requirements.txt (line 1)) (6.4.10)\n",
      "Requirement already satisfied: jupyter-console in /opt/anaconda3/envs/EECS487proj/lib/python3.6/site-packages (from jupyter>=1.0->checklist==0.0.11->allennlp==2.7.0->-r requirements.txt (line 1)) (5.2.0)\n",
      "Requirement already satisfied: jsonschema!=2.5.0,>=2.4 in /opt/anaconda3/envs/EECS487proj/lib/python3.6/site-packages (from nbformat>=4.2.0->ipywidgets>=7.5->checklist==0.0.11->allennlp==2.7.0->-r requirements.txt (line 1)) (3.2.0)\n",
      "Requirement already satisfied: jupyter-core in /opt/anaconda3/envs/EECS487proj/lib/python3.6/site-packages (from nbformat>=4.2.0->ipywidgets>=7.5->checklist==0.0.11->allennlp==2.7.0->-r requirements.txt (line 1)) (4.8.1)\n",
      "Requirement already satisfied: pyrsistent>=0.14.0 in /opt/anaconda3/envs/EECS487proj/lib/python3.6/site-packages (from jsonschema!=2.5.0,>=2.4->nbformat>=4.2.0->ipywidgets>=7.5->checklist==0.0.11->allennlp==2.7.0->-r requirements.txt (line 1)) (0.18.0)\n",
      "Requirement already satisfied: attrs>=17.4.0 in /opt/anaconda3/envs/EECS487proj/lib/python3.6/site-packages (from jsonschema!=2.5.0,>=2.4->nbformat>=4.2.0->ipywidgets>=7.5->checklist==0.0.11->allennlp==2.7.0->-r requirements.txt (line 1)) (21.4.0)\n",
      "Requirement already satisfied: wcwidth in /opt/anaconda3/envs/EECS487proj/lib/python3.6/site-packages (from prompt-toolkit<2.0.0,>=1.0.4->ipython>=4.0.0->ipywidgets>=7.5->checklist==0.0.11->allennlp==2.7.0->-r requirements.txt (line 1)) (0.2.5)\n",
      "Requirement already satisfied: pyasn1<0.5.0,>=0.4.6 in /opt/anaconda3/envs/EECS487proj/lib/python3.6/site-packages (from pyasn1-modules>=0.2.1->google-auth<3.0dev,>=1.25.0->google-cloud-storage<1.43.0,>=1.38.0->allennlp==2.7.0->-r requirements.txt (line 1)) (0.4.8)\n",
      "Requirement already satisfied: certifi>=2017.4.17 in /opt/anaconda3/envs/EECS487proj/lib/python3.6/site-packages (from requests>=2.18->allennlp==2.7.0->-r requirements.txt (line 1)) (2020.6.20)\n",
      "Requirement already satisfied: idna<4,>=2.5 in /opt/anaconda3/envs/EECS487proj/lib/python3.6/site-packages (from requests>=2.18->allennlp==2.7.0->-r requirements.txt (line 1)) (3.3)\n",
      "Requirement already satisfied: charset-normalizer~=2.0.0 in /opt/anaconda3/envs/EECS487proj/lib/python3.6/site-packages (from requests>=2.18->allennlp==2.7.0->-r requirements.txt (line 1)) (2.0.12)\n",
      "Requirement already satisfied: google-auth-oauthlib<0.5,>=0.4.1 in /opt/anaconda3/envs/EECS487proj/lib/python3.6/site-packages (from tensorboard>=2.2.0->pytorch_lightning==1.4.9->-r requirements.txt (line 8)) (0.4.6)\n",
      "Requirement already satisfied: tensorboard-plugin-wit>=1.6.0 in /opt/anaconda3/envs/EECS487proj/lib/python3.6/site-packages (from tensorboard>=2.2.0->pytorch_lightning==1.4.9->-r requirements.txt (line 8)) (1.8.1)\n",
      "Requirement already satisfied: grpcio>=1.24.3 in /opt/anaconda3/envs/EECS487proj/lib/python3.6/site-packages (from tensorboard>=2.2.0->pytorch_lightning==1.4.9->-r requirements.txt (line 8)) (1.44.0)\n",
      "Requirement already satisfied: werkzeug>=0.11.15 in /opt/anaconda3/envs/EECS487proj/lib/python3.6/site-packages (from tensorboard>=2.2.0->pytorch_lightning==1.4.9->-r requirements.txt (line 8)) (2.0.3)\n",
      "Requirement already satisfied: absl-py>=0.4 in /opt/anaconda3/envs/EECS487proj/lib/python3.6/site-packages (from tensorboard>=2.2.0->pytorch_lightning==1.4.9->-r requirements.txt (line 8)) (1.0.0)\n",
      "Requirement already satisfied: markdown>=2.6.8 in /opt/anaconda3/envs/EECS487proj/lib/python3.6/site-packages (from tensorboard>=2.2.0->pytorch_lightning==1.4.9->-r requirements.txt (line 8)) (3.3.6)\n",
      "Requirement already satisfied: wheel>=0.26 in /opt/anaconda3/envs/EECS487proj/lib/python3.6/site-packages (from tensorboard>=2.2.0->pytorch_lightning==1.4.9->-r requirements.txt (line 8)) (0.37.1)\n",
      "Requirement already satisfied: tensorboard-data-server<0.7.0,>=0.6.0 in /opt/anaconda3/envs/EECS487proj/lib/python3.6/site-packages (from tensorboard>=2.2.0->pytorch_lightning==1.4.9->-r requirements.txt (line 8)) (0.6.1)\n",
      "Requirement already satisfied: requests-oauthlib>=0.7.0 in /opt/anaconda3/envs/EECS487proj/lib/python3.6/site-packages (from google-auth-oauthlib<0.5,>=0.4.1->tensorboard>=2.2.0->pytorch_lightning==1.4.9->-r requirements.txt (line 8)) (1.3.1)\n",
      "Requirement already satisfied: oauthlib>=3.0.0 in /opt/anaconda3/envs/EECS487proj/lib/python3.6/site-packages (from requests-oauthlib>=0.7.0->google-auth-oauthlib<0.5,>=0.4.1->tensorboard>=2.2.0->pytorch_lightning==1.4.9->-r requirements.txt (line 8)) (3.2.0)\n",
      "Requirement already satisfied: contextvars<3,>=2.4 in /opt/anaconda3/envs/EECS487proj/lib/python3.6/site-packages (from thinc<8.1.0,>=8.0.9->spacy==3.1.3->-r requirements.txt (line 11)) (2.4)\n",
      "Requirement already satisfied: immutables>=0.9 in /opt/anaconda3/envs/EECS487proj/lib/python3.6/site-packages (from contextvars<3,>=2.4->thinc<8.1.0,>=8.0.9->spacy==3.1.3->-r requirements.txt (line 11)) (0.17)\n",
      "Requirement already satisfied: click<9.0.0,>=7.1.1 in /opt/anaconda3/envs/EECS487proj/lib/python3.6/site-packages (from typer<0.5.0,>=0.3.0->spacy==3.1.3->-r requirements.txt (line 11)) (8.0.4)\n",
      "Requirement already satisfied: promise<3,>=2.0 in /opt/anaconda3/envs/EECS487proj/lib/python3.6/site-packages (from wandb<0.13.0,>=0.10.0->allennlp==2.7.0->-r requirements.txt (line 1)) (2.3)\n",
      "Requirement already satisfied: GitPython>=1.0.0 in /opt/anaconda3/envs/EECS487proj/lib/python3.6/site-packages (from wandb<0.13.0,>=0.10.0->allennlp==2.7.0->-r requirements.txt (line 1)) (3.1.18)\n",
      "Requirement already satisfied: sentry-sdk>=1.0.0 in /opt/anaconda3/envs/EECS487proj/lib/python3.6/site-packages (from wandb<0.13.0,>=0.10.0->allennlp==2.7.0->-r requirements.txt (line 1)) (1.5.8)\n",
      "Requirement already satisfied: setproctitle in /opt/anaconda3/envs/EECS487proj/lib/python3.6/site-packages (from wandb<0.13.0,>=0.10.0->allennlp==2.7.0->-r requirements.txt (line 1)) (1.2.2)\n",
      "Requirement already satisfied: yaspin>=1.0.0 in /opt/anaconda3/envs/EECS487proj/lib/python3.6/site-packages (from wandb<0.13.0,>=0.10.0->allennlp==2.7.0->-r requirements.txt (line 1)) (2.1.0)\n",
      "Requirement already satisfied: shortuuid>=0.5.0 in /opt/anaconda3/envs/EECS487proj/lib/python3.6/site-packages (from wandb<0.13.0,>=0.10.0->allennlp==2.7.0->-r requirements.txt (line 1)) (1.0.8)\n",
      "Requirement already satisfied: psutil>=5.0.0 in /opt/anaconda3/envs/EECS487proj/lib/python3.6/site-packages (from wandb<0.13.0,>=0.10.0->allennlp==2.7.0->-r requirements.txt (line 1)) (5.9.0)\n",
      "Requirement already satisfied: docker-pycreds>=0.4.0 in /opt/anaconda3/envs/EECS487proj/lib/python3.6/site-packages (from wandb<0.13.0,>=0.10.0->allennlp==2.7.0->-r requirements.txt (line 1)) (0.4.0)\n",
      "Requirement already satisfied: pathtools in /opt/anaconda3/envs/EECS487proj/lib/python3.6/site-packages (from wandb<0.13.0,>=0.10.0->allennlp==2.7.0->-r requirements.txt (line 1)) (0.1.2)\n",
      "Requirement already satisfied: gitdb<5,>=4.0.1 in /opt/anaconda3/envs/EECS487proj/lib/python3.6/site-packages (from GitPython>=1.0.0->wandb<0.13.0,>=0.10.0->allennlp==2.7.0->-r requirements.txt (line 1)) (4.0.9)\n",
      "Requirement already satisfied: smmap<6,>=3.0.1 in /opt/anaconda3/envs/EECS487proj/lib/python3.6/site-packages (from gitdb<5,>=4.0.1->GitPython>=1.0.0->wandb<0.13.0,>=0.10.0->allennlp==2.7.0->-r requirements.txt (line 1)) (5.0.0)\n",
      "Requirement already satisfied: terminado>=0.8.3 in /opt/anaconda3/envs/EECS487proj/lib/python3.6/site-packages (from notebook->jupyter>=1.0->checklist==0.0.11->allennlp==2.7.0->-r requirements.txt (line 1)) (0.12.1)\n",
      "Requirement already satisfied: argon2-cffi in /opt/anaconda3/envs/EECS487proj/lib/python3.6/site-packages (from notebook->jupyter>=1.0->checklist==0.0.11->allennlp==2.7.0->-r requirements.txt (line 1)) (21.3.0)\n",
      "Requirement already satisfied: pyzmq>=17 in /opt/anaconda3/envs/EECS487proj/lib/python3.6/site-packages (from notebook->jupyter>=1.0->checklist==0.0.11->allennlp==2.7.0->-r requirements.txt (line 1)) (22.2.1)\n",
      "Requirement already satisfied: nest-asyncio>=1.5 in /opt/anaconda3/envs/EECS487proj/lib/python3.6/site-packages (from notebook->jupyter>=1.0->checklist==0.0.11->allennlp==2.7.0->-r requirements.txt (line 1)) (1.5.1)\n",
      "Requirement already satisfied: Send2Trash>=1.8.0 in /opt/anaconda3/envs/EECS487proj/lib/python3.6/site-packages (from notebook->jupyter>=1.0->checklist==0.0.11->allennlp==2.7.0->-r requirements.txt (line 1)) (1.8.0)\n",
      "Requirement already satisfied: prometheus-client in /opt/anaconda3/envs/EECS487proj/lib/python3.6/site-packages (from notebook->jupyter>=1.0->checklist==0.0.11->allennlp==2.7.0->-r requirements.txt (line 1)) (0.13.1)\n",
      "Requirement already satisfied: entrypoints in /opt/anaconda3/envs/EECS487proj/lib/python3.6/site-packages (from jupyter_client->ipykernel>=4.5.1->ipywidgets>=7.5->checklist==0.0.11->allennlp==2.7.0->-r requirements.txt (line 1)) (0.3)\n",
      "Requirement already satisfied: defusedxml in /opt/anaconda3/envs/EECS487proj/lib/python3.6/site-packages (from nbconvert->jupyter>=1.0->checklist==0.0.11->allennlp==2.7.0->-r requirements.txt (line 1)) (0.7.1)\n",
      "Requirement already satisfied: bleach in /opt/anaconda3/envs/EECS487proj/lib/python3.6/site-packages (from nbconvert->jupyter>=1.0->checklist==0.0.11->allennlp==2.7.0->-r requirements.txt (line 1)) (4.1.0)\n",
      "Requirement already satisfied: mistune<2,>=0.8.1 in /opt/anaconda3/envs/EECS487proj/lib/python3.6/site-packages (from nbconvert->jupyter>=1.0->checklist==0.0.11->allennlp==2.7.0->-r requirements.txt (line 1)) (0.8.4)\n",
      "Requirement already satisfied: jupyterlab-pygments in /opt/anaconda3/envs/EECS487proj/lib/python3.6/site-packages (from nbconvert->jupyter>=1.0->checklist==0.0.11->allennlp==2.7.0->-r requirements.txt (line 1)) (0.1.2)\n",
      "Requirement already satisfied: testpath in /opt/anaconda3/envs/EECS487proj/lib/python3.6/site-packages (from nbconvert->jupyter>=1.0->checklist==0.0.11->allennlp==2.7.0->-r requirements.txt (line 1)) (0.6.0)\n",
      "Requirement already satisfied: nbclient<0.6.0,>=0.5.0 in /opt/anaconda3/envs/EECS487proj/lib/python3.6/site-packages (from nbconvert->jupyter>=1.0->checklist==0.0.11->allennlp==2.7.0->-r requirements.txt (line 1)) (0.5.9)\n",
      "Requirement already satisfied: pandocfilters>=1.4.1 in /opt/anaconda3/envs/EECS487proj/lib/python3.6/site-packages (from nbconvert->jupyter>=1.0->checklist==0.0.11->allennlp==2.7.0->-r requirements.txt (line 1)) (1.5.0)\n",
      "Requirement already satisfied: MarkupSafe>=2.0 in /opt/anaconda3/envs/EECS487proj/lib/python3.6/site-packages (from jinja2->spacy==3.1.3->-r requirements.txt (line 11)) (2.0.1)\n",
      "Requirement already satisfied: async-generator in /opt/anaconda3/envs/EECS487proj/lib/python3.6/site-packages (from nbclient<0.6.0,>=0.5.0->nbconvert->jupyter>=1.0->checklist==0.0.11->allennlp==2.7.0->-r requirements.txt (line 1)) (1.10)\n",
      "Requirement already satisfied: ptyprocess in /opt/anaconda3/envs/EECS487proj/lib/python3.6/site-packages (from terminado>=0.8.3->notebook->jupyter>=1.0->checklist==0.0.11->allennlp==2.7.0->-r requirements.txt (line 1)) (0.7.0)\n",
      "Requirement already satisfied: multidict<7.0,>=4.5 in /opt/anaconda3/envs/EECS487proj/lib/python3.6/site-packages (from aiohttp->fsspec[http]!=2021.06.0,>=2021.05.0->pytorch_lightning==1.4.9->-r requirements.txt (line 8)) (5.2.0)\n",
      "Requirement already satisfied: frozenlist>=1.1.1 in /opt/anaconda3/envs/EECS487proj/lib/python3.6/site-packages (from aiohttp->fsspec[http]!=2021.06.0,>=2021.05.0->pytorch_lightning==1.4.9->-r requirements.txt (line 8)) (1.2.0)\n",
      "Requirement already satisfied: asynctest==0.13.0 in /opt/anaconda3/envs/EECS487proj/lib/python3.6/site-packages (from aiohttp->fsspec[http]!=2021.06.0,>=2021.05.0->pytorch_lightning==1.4.9->-r requirements.txt (line 8)) (0.13.0)\n",
      "Requirement already satisfied: idna-ssl>=1.0 in /opt/anaconda3/envs/EECS487proj/lib/python3.6/site-packages (from aiohttp->fsspec[http]!=2021.06.0,>=2021.05.0->pytorch_lightning==1.4.9->-r requirements.txt (line 8)) (1.1.0)\n",
      "Requirement already satisfied: async-timeout<5.0,>=4.0.0a3 in /opt/anaconda3/envs/EECS487proj/lib/python3.6/site-packages (from aiohttp->fsspec[http]!=2021.06.0,>=2021.05.0->pytorch_lightning==1.4.9->-r requirements.txt (line 8)) (4.0.2)\n",
      "Requirement already satisfied: aiosignal>=1.1.2 in /opt/anaconda3/envs/EECS487proj/lib/python3.6/site-packages (from aiohttp->fsspec[http]!=2021.06.0,>=2021.05.0->pytorch_lightning==1.4.9->-r requirements.txt (line 8)) (1.2.0)\n",
      "Requirement already satisfied: yarl<2.0,>=1.0 in /opt/anaconda3/envs/EECS487proj/lib/python3.6/site-packages (from aiohttp->fsspec[http]!=2021.06.0,>=2021.05.0->pytorch_lightning==1.4.9->-r requirements.txt (line 8)) (1.7.2)\n",
      "Requirement already satisfied: argon2-cffi-bindings in /opt/anaconda3/envs/EECS487proj/lib/python3.6/site-packages (from argon2-cffi->notebook->jupyter>=1.0->checklist==0.0.11->allennlp==2.7.0->-r requirements.txt (line 1)) (21.2.0)\n",
      "Requirement already satisfied: cffi>=1.0.1 in /opt/anaconda3/envs/EECS487proj/lib/python3.6/site-packages (from argon2-cffi-bindings->argon2-cffi->notebook->jupyter>=1.0->checklist==0.0.11->allennlp==2.7.0->-r requirements.txt (line 1)) (1.15.0)\n",
      "Requirement already satisfied: pycparser in /opt/anaconda3/envs/EECS487proj/lib/python3.6/site-packages (from cffi>=1.0.1->argon2-cffi-bindings->argon2-cffi->notebook->jupyter>=1.0->checklist==0.0.11->allennlp==2.7.0->-r requirements.txt (line 1)) (2.21)\n",
      "Requirement already satisfied: webencodings in /opt/anaconda3/envs/EECS487proj/lib/python3.6/site-packages (from bleach->nbconvert->jupyter>=1.0->checklist==0.0.11->allennlp==2.7.0->-r requirements.txt (line 1)) (0.5.1)\n",
      "Requirement already satisfied: cached-property in /opt/anaconda3/envs/EECS487proj/lib/python3.6/site-packages (from h5py->allennlp==2.7.0->-r requirements.txt (line 1)) (1.5.2)\n",
      "Requirement already satisfied: backports.csv in /opt/anaconda3/envs/EECS487proj/lib/python3.6/site-packages (from patternfork-nosql->checklist==0.0.11->allennlp==2.7.0->-r requirements.txt (line 1)) (1.0.7)\n",
      "Requirement already satisfied: lxml in /opt/anaconda3/envs/EECS487proj/lib/python3.6/site-packages (from patternfork-nosql->checklist==0.0.11->allennlp==2.7.0->-r requirements.txt (line 1)) (4.8.0)\n",
      "Requirement already satisfied: python-docx in /opt/anaconda3/envs/EECS487proj/lib/python3.6/site-packages (from patternfork-nosql->checklist==0.0.11->allennlp==2.7.0->-r requirements.txt (line 1)) (0.8.11)\n",
      "Requirement already satisfied: cherrypy in /opt/anaconda3/envs/EECS487proj/lib/python3.6/site-packages (from patternfork-nosql->checklist==0.0.11->allennlp==2.7.0->-r requirements.txt (line 1)) (18.6.1)\n",
      "Requirement already satisfied: feedparser in /opt/anaconda3/envs/EECS487proj/lib/python3.6/site-packages (from patternfork-nosql->checklist==0.0.11->allennlp==2.7.0->-r requirements.txt (line 1)) (6.0.8)\n",
      "Requirement already satisfied: pdfminer.six in /opt/anaconda3/envs/EECS487proj/lib/python3.6/site-packages (from patternfork-nosql->checklist==0.0.11->allennlp==2.7.0->-r requirements.txt (line 1)) (20220319)\n",
      "Requirement already satisfied: beautifulsoup4 in /opt/anaconda3/envs/EECS487proj/lib/python3.6/site-packages (from patternfork-nosql->checklist==0.0.11->allennlp==2.7.0->-r requirements.txt (line 1)) (4.10.0)\n",
      "Requirement already satisfied: soupsieve>1.2 in /opt/anaconda3/envs/EECS487proj/lib/python3.6/site-packages (from beautifulsoup4->patternfork-nosql->checklist==0.0.11->allennlp==2.7.0->-r requirements.txt (line 1)) (2.3.1)\n",
      "Requirement already satisfied: portend>=2.1.1 in /opt/anaconda3/envs/EECS487proj/lib/python3.6/site-packages (from cherrypy->patternfork-nosql->checklist==0.0.11->allennlp==2.7.0->-r requirements.txt (line 1)) (3.0.0)\n",
      "Requirement already satisfied: zc.lockfile in /opt/anaconda3/envs/EECS487proj/lib/python3.6/site-packages (from cherrypy->patternfork-nosql->checklist==0.0.11->allennlp==2.7.0->-r requirements.txt (line 1)) (2.0)\n",
      "Requirement already satisfied: cheroot>=8.2.1 in /opt/anaconda3/envs/EECS487proj/lib/python3.6/site-packages (from cherrypy->patternfork-nosql->checklist==0.0.11->allennlp==2.7.0->-r requirements.txt (line 1)) (8.6.0)\n",
      "Requirement already satisfied: jaraco.collections in /opt/anaconda3/envs/EECS487proj/lib/python3.6/site-packages (from cherrypy->patternfork-nosql->checklist==0.0.11->allennlp==2.7.0->-r requirements.txt (line 1)) (3.4.0)\n",
      "Requirement already satisfied: jaraco.functools in /opt/anaconda3/envs/EECS487proj/lib/python3.6/site-packages (from cheroot>=8.2.1->cherrypy->patternfork-nosql->checklist==0.0.11->allennlp==2.7.0->-r requirements.txt (line 1)) (3.4.0)\n",
      "Requirement already satisfied: tempora>=1.8 in /opt/anaconda3/envs/EECS487proj/lib/python3.6/site-packages (from portend>=2.1.1->cherrypy->patternfork-nosql->checklist==0.0.11->allennlp==2.7.0->-r requirements.txt (line 1)) (4.1.2)\n",
      "Requirement already satisfied: sgmllib3k in /opt/anaconda3/envs/EECS487proj/lib/python3.6/site-packages (from feedparser->patternfork-nosql->checklist==0.0.11->allennlp==2.7.0->-r requirements.txt (line 1)) (1.0.0)\n",
      "Requirement already satisfied: jaraco.text in /opt/anaconda3/envs/EECS487proj/lib/python3.6/site-packages (from jaraco.collections->cherrypy->patternfork-nosql->checklist==0.0.11->allennlp==2.7.0->-r requirements.txt (line 1)) (3.7.0)\n",
      "Requirement already satisfied: jaraco.classes in /opt/anaconda3/envs/EECS487proj/lib/python3.6/site-packages (from jaraco.collections->cherrypy->patternfork-nosql->checklist==0.0.11->allennlp==2.7.0->-r requirements.txt (line 1)) (3.2.1)\n",
      "Requirement already satisfied: importlib-resources in /opt/anaconda3/envs/EECS487proj/lib/python3.6/site-packages (from jaraco.text->jaraco.collections->cherrypy->patternfork-nosql->checklist==0.0.11->allennlp==2.7.0->-r requirements.txt (line 1)) (5.4.0)\n",
      "Requirement already satisfied: jaraco.context>=4.1 in /opt/anaconda3/envs/EECS487proj/lib/python3.6/site-packages (from jaraco.text->jaraco.collections->cherrypy->patternfork-nosql->checklist==0.0.11->allennlp==2.7.0->-r requirements.txt (line 1)) (4.1.1)\n",
      "Requirement already satisfied: cryptography in /opt/anaconda3/envs/EECS487proj/lib/python3.6/site-packages (from pdfminer.six->patternfork-nosql->checklist==0.0.11->allennlp==2.7.0->-r requirements.txt (line 1)) (36.0.2)\n",
      "Requirement already satisfied: chardet in /opt/anaconda3/envs/EECS487proj/lib/python3.6/site-packages (from pdfminer.six->patternfork-nosql->checklist==0.0.11->allennlp==2.7.0->-r requirements.txt (line 1)) (4.0.0)\n",
      "Requirement already satisfied: tomli>=1.0.0 in /opt/anaconda3/envs/EECS487proj/lib/python3.6/site-packages (from pytest->allennlp==2.7.0->-r requirements.txt (line 1)) (1.2.3)\n",
      "Requirement already satisfied: py>=1.8.2 in /opt/anaconda3/envs/EECS487proj/lib/python3.6/site-packages (from pytest->allennlp==2.7.0->-r requirements.txt (line 1)) (1.11.0)\n",
      "Requirement already satisfied: pluggy<2.0,>=0.12 in /opt/anaconda3/envs/EECS487proj/lib/python3.6/site-packages (from pytest->allennlp==2.7.0->-r requirements.txt (line 1)) (1.0.0)\n",
      "Requirement already satisfied: iniconfig in /opt/anaconda3/envs/EECS487proj/lib/python3.6/site-packages (from pytest->allennlp==2.7.0->-r requirements.txt (line 1)) (1.1.1)\n",
      "Requirement already satisfied: qtpy in /opt/anaconda3/envs/EECS487proj/lib/python3.6/site-packages (from qtconsole->jupyter>=1.0->checklist==0.0.11->allennlp==2.7.0->-r requirements.txt (line 1)) (2.0.1)\n"
     ]
    }
   ],
   "source": [
    "!pip install -r requirements.txt"
   ]
  },
  {
   "cell_type": "code",
   "execution_count": 5,
   "metadata": {},
   "outputs": [],
   "source": [
    "import numpy as np\n",
    "from tqdm import tqdm\n",
    "import transformers\n",
    "from transformers import (\n",
    "    BertTokenizer,\n",
    "    BertForMaskedLM\n",
    ")\n",
    "import pandas as pd\n",
    "import torch\n",
    "from torch.nn import functional as F\n",
    "from transformers import logging\n",
    "\n",
    "logging.set_verbosity_error()"
   ]
  },
  {
   "cell_type": "code",
   "execution_count": 6,
   "metadata": {},
   "outputs": [],
   "source": [
    "bert_tokenizer = BertTokenizer.from_pretrained('bert-base-uncased')\n",
    "bert_mlm = BertForMaskedLM.from_pretrained('bert-base-uncased', return_dict=True)"
   ]
  },
  {
   "cell_type": "code",
   "execution_count": 7,
   "metadata": {},
   "outputs": [],
   "source": [
    "import gensim\n",
    "from gensim import downloader\n",
    "from gensim.models import KeyedVectors\n",
    "# word2vec = gensim.downloader.load('glove-wiki-gigaword-300')\n",
    "# word2vec.save('vectors.kv')\n",
    "# word2vec = KeyedVectors.load('vectors.kv')\n",
    "# print(type(word2vec.key_to_index))\n",
    "# print(len(word2vec.key_to_index))\n",
    "# VOCABULARY = list(word2vec.key_to_index.keys())"
   ]
  },
  {
   "cell_type": "code",
   "execution_count": 167,
   "metadata": {},
   "outputs": [
    {
     "name": "stdout",
     "output_type": "stream",
     "text": [
      "the\n",
      "400000\n"
     ]
    }
   ],
   "source": [
    "# original word embeddings from BERT\n",
    "print(VOCABULARY[0])\n",
    "print(len(VOCABULARY))"
   ]
  },
  {
   "cell_type": "code",
   "execution_count": 8,
   "metadata": {},
   "outputs": [],
   "source": [
    "NULL_PROJECTION = np.load(\"data/nullspace_vector.npy\")"
   ]
  },
  {
   "cell_type": "code",
   "execution_count": 190,
   "metadata": {},
   "outputs": [],
   "source": [
    "with open(\"data/embeddings/BERTLM_ENCODER_LAYER_ONE/bert-base-uncased-embeddings.txt\", \"r\") as f:\n",
    "    lines = f.readlines()\n",
    "lines = lines[1:]"
   ]
  },
  {
   "cell_type": "code",
   "execution_count": 20,
   "metadata": {},
   "outputs": [],
   "source": [
    "from collections import defaultdict"
   ]
  },
  {
   "cell_type": "code",
   "execution_count": 192,
   "metadata": {},
   "outputs": [],
   "source": [
    "d = defaultdict(int)\n",
    "for line in lines:\n",
    "    split = line.split()\n",
    "    key = split[0]\n",
    "    value = split[1:]\n",
    "    value = np.array(list(map(float, value)))\n",
    "    d[key] = value"
   ]
  },
  {
   "cell_type": "code",
   "execution_count": 193,
   "metadata": {},
   "outputs": [
    {
     "name": "stdout",
     "output_type": "stream",
     "text": [
      "9794\n"
     ]
    }
   ],
   "source": [
    "print(len(d))"
   ]
  },
  {
   "cell_type": "code",
   "execution_count": 194,
   "metadata": {},
   "outputs": [],
   "source": [
    "# debiased vectors\n",
    "for key, value in d.items():   \n",
    "    d[key] = NULL_PROJECTION.dot(value.T).T\n",
    "# import numpy as np\n",
    "# m = gensim.models.keyedvectors.Word2VecKeyedVectors(vector_size=768)\n"
   ]
  },
  {
   "cell_type": "code",
   "execution_count": 198,
   "metadata": {},
   "outputs": [],
   "source": [
    "with open(\"data/embeddings/BERTLM_ENCODER_LAYER_ONE/bert-base-uncased-embeddings-debiased.txt\", \"w\") as bert_file:\n",
    "    bert_file.write(\"9794 768\\n\")\n",
    "    for key, value in d.items():\n",
    "        bert_file.write(f\"{key} {' '.join(map(str, list(value)))}\\n\")\n",
    "    # for word, embedding in zip(VOCABULARY, bert_vocab_embedding_list):\n",
    "        "
   ]
  },
  {
   "cell_type": "code",
   "execution_count": 11,
   "metadata": {},
   "outputs": [],
   "source": [
    "# for key,value in d.items():   \n",
    "    # m.add_vectors(key, np.array(value))"
   ]
  },
  {
   "cell_type": "code",
   "execution_count": 40,
   "metadata": {},
   "outputs": [],
   "source": [
    "def load_word_vectors(fname):\n",
    "    model = KeyedVectors.load_word2vec_format(fname, binary=False)\n",
    "    vecs = model.vectors\n",
    "    words = list(model.index_to_key)\n",
    "    return model, vecs, words\n",
    "\n",
    "BASE_PATH = \"data/embeddings\"\n",
    "EMBEDDINGS_FILE_PATH = f\"{BASE_PATH}/BERTLM_ENCODER_LAYER_ONE/bert-base-uncased-embeddings.txt\"\n",
    "\n",
    "embed, vecs, words = load_word_vectors(fname=EMBEDDINGS_FILE_PATH)\n",
    "# print(len(embed[\"the\"]))"
   ]
  },
  {
   "cell_type": "code",
   "execution_count": 39,
   "metadata": {},
   "outputs": [],
   "source": [
    "BASE_PATH = \"data/embeddings\"\n",
    "DEBIASED_EMBEDDINGS_FILE_PATH = f\"{BASE_PATH}/BERTLM_ENCODER_LAYER_ONE/bert-base-uncased-embeddings-debiased.txt\"\n",
    "\n",
    "debiased_embed, _,_= load_word_vectors(fname=DEBIASED_EMBEDDINGS_FILE_PATH)"
   ]
  },
  {
   "cell_type": "code",
   "execution_count": 11,
   "metadata": {},
   "outputs": [
    {
     "name": "stdout",
     "output_type": "stream",
     "text": [
      "9794\n"
     ]
    }
   ],
   "source": [
    "print(len(words))"
   ]
  },
  {
   "cell_type": "code",
   "execution_count": 12,
   "metadata": {},
   "outputs": [
    {
     "name": "stdout",
     "output_type": "stream",
     "text": [
      "0.7119591\n"
     ]
    }
   ],
   "source": [
    "def cos_sim(a,b):\n",
    "    # a, b: numpy.ndarray\n",
    "    return np.dot(a,b) / (np.linalg.norm(a)*np.linalg.norm(b))\n",
    "\n",
    "print(cos_sim(embed[\"she\"],embed[\"doctor\"]))"
   ]
  },
  {
   "cell_type": "code",
   "execution_count": 13,
   "metadata": {},
   "outputs": [],
   "source": [
    "# DIRECT-BIAS\n",
    "# c: parameter that determines how strict do we want to in measuring bias\n",
    "# w: the word embedding vector\n",
    "# theta: the gender direction \n",
    "# N: the set of gender neutral words\n",
    "\n",
    "def direct_bias_debiased(gender_neutral_words, theta):\n",
    "    # gender_neutral_words: list of gender neutral words\n",
    "    # [\"doctor\", \"teacher\",...]\n",
    "    # theta: nd.array\n",
    "    # N = len(gender_neutral_words)\n",
    "    N = 0\n",
    "    bias = 0\n",
    "    for w in gender_neutral_words:\n",
    "        if w in debiased_embed.key_to_index:\n",
    "            N += 1\n",
    "            bias += cos_sim(theta, debiased_embed[w])\n",
    "    bias /= N\n",
    "    return bias\n",
    "\n",
    "def direct_bias(gender_neutral_words, theta):\n",
    "    # gender_neutral_words: list of gender neutral words\n",
    "    # [\"doctor\", \"teacher\",...]\n",
    "    # theta: nd.array\n",
    "    # N = len(gender_neutral_words)\n",
    "    N = 0\n",
    "    bias = 0\n",
    "    for w in gender_neutral_words:\n",
    "        if w in embed.key_to_index:\n",
    "            N += 1\n",
    "            bias += cos_sim(theta, embed[w])\n",
    "    bias /= N\n",
    "    return bias"
   ]
  },
  {
   "cell_type": "code",
   "execution_count": 14,
   "metadata": {},
   "outputs": [
    {
     "name": "stdout",
     "output_type": "stream",
     "text": [
      "pca explained variance ratio: [2.39618391e-01 2.31649175e-01 1.17617190e-01 1.07486375e-01\n",
      " 8.77610967e-02 6.57494664e-02 5.98696880e-02 5.55527359e-02\n",
      " 3.46959345e-02 5.94005614e-15] \n",
      "\n"
     ]
    }
   ],
   "source": [
    "PAIRS = [[\"woman\", \"man\"], [\"girl\", \"boy\"], [\"she\", \"he\"], [\"mother\", \"father\"], [\"daughter\", \"son\"], [\"female\", \"male\"], [\"her\", \"his\"], [\"herself\", \"himself\"], [\"mary\", \"john\"]]\n",
    "NUM_PCA_COMPONENTS=10\n",
    "from sklearn.decomposition import PCA\n",
    "\n",
    "def doPCA(pairs, num_components=10):\n",
    "    matrix = []\n",
    "    for a, b in pairs:\n",
    "        center = (a + b) / 2\n",
    "        norm_a = a - center\n",
    "        norm_b = b - center\n",
    "        matrix.append(norm_a)\n",
    "        matrix.append(norm_b)\n",
    "    matrix = np.array(matrix)\n",
    "    pca = PCA(n_components=num_components, svd_solver=\"full\")\n",
    "    pca.fit(matrix)\n",
    "    return pca\n",
    "\n",
    "def bias_subspace(embed, num_components=None):\n",
    "    # define gender direction\n",
    "    pair = []\n",
    "    for p in PAIRS:\n",
    "        pair.append((embed[p[0]], embed[p[1]]))\n",
    "    pca = doPCA(pair)\n",
    "    bias_direction = pca.components_[0] # using principle component that has the highest variance in gender bias subspace\n",
    "    print(f\"pca explained variance ratio: {pca.explained_variance_ratio_} \\n\")\n",
    "    \n",
    "    return bias_direction\n",
    "\n",
    "bias_direction = bias_subspace(embed=embed, num_components=NUM_PCA_COMPONENTS)\n",
    "\n",
    "bias_sign = bias_direction.dot(embed[\"woman\"] - embed[\"man\"])\n",
    "bias_direction = -bias_direction if bias_sign > 0 else bias_direction"
   ]
  },
  {
   "cell_type": "code",
   "execution_count": 15,
   "metadata": {},
   "outputs": [
    {
     "data": {
      "text/plain": [
       "-0.0342985351735214"
      ]
     },
     "execution_count": 15,
     "metadata": {},
     "output_type": "execute_result"
    }
   ],
   "source": [
    "# direct-bias of the whole vocabulary before debiasing\n",
    "direct_bias(words, bias_direction)\n"
   ]
  },
  {
   "cell_type": "code",
   "execution_count": 16,
   "metadata": {},
   "outputs": [
    {
     "data": {
      "text/plain": [
       "0.0002429442899980663"
      ]
     },
     "execution_count": 16,
     "metadata": {},
     "output_type": "execute_result"
    }
   ],
   "source": [
    "# direct-bias of the whole vocabulary after debiasing\n",
    "direct_bias_debiased(words, bias_direction)"
   ]
  },
  {
   "cell_type": "code",
   "execution_count": 209,
   "metadata": {},
   "outputs": [],
   "source": [
    "def indirect_bias(w, v, theta):\n",
    "# w,v: two word vectors np.array\n",
    "# theta: gender direction np.array\n",
    "    bias = 0\n",
    "    w_perp = theta *(np.dot(w,theta) / (np.linalg.norm(theta)*np.linalg.norm(theta)))\n",
    "    v_perp = theta *(np.dot(v,theta) / (np.linalg.norm(theta)*np.linalg.norm(theta)))\n",
    "    bias = np.dot(w,v) - np.dot(w_perp,v_perp)/np.linalg.norm(w_perp)/np.linalg.norm(v_perp)\n",
    "    bias /= np.dot(w,v)\n",
    "    return bias"
   ]
  },
  {
   "cell_type": "code",
   "execution_count": 210,
   "metadata": {},
   "outputs": [
    {
     "name": "stdout",
     "output_type": "stream",
     "text": [
      "0.99320835\n",
      "0.9929431\n",
      "0.99346185\n"
     ]
    }
   ],
   "source": [
    "print(indirect_bias(embed[\"she\"], embed[\"doctor\"], bias_direction))\n",
    "print(indirect_bias(embed[\"she\"], embed[\"nurse\"], bias_direction))\n",
    "print(indirect_bias(embed[\"she\"], embed[\"person\"], bias_direction))"
   ]
  },
  {
   "cell_type": "code",
   "execution_count": 211,
   "metadata": {},
   "outputs": [
    {
     "ename": "KeyError",
     "evalue": "\"Key 'waiter' not present\"",
     "output_type": "error",
     "traceback": [
      "\u001b[0;31m---------------------------------------------------------------------------\u001b[0m",
      "\u001b[0;31mKeyError\u001b[0m                                  Traceback (most recent call last)",
      "\u001b[0;32m<ipython-input-211-d83d6a213ce6>\u001b[0m in \u001b[0;36m<module>\u001b[0;34m()\u001b[0m\n\u001b[0;32m----> 1\u001b[0;31m \u001b[0mprint\u001b[0m\u001b[0;34m(\u001b[0m\u001b[0mindirect_bias\u001b[0m\u001b[0;34m(\u001b[0m\u001b[0membed\u001b[0m\u001b[0;34m[\u001b[0m\u001b[0;34m\"she\"\u001b[0m\u001b[0;34m]\u001b[0m\u001b[0;34m,\u001b[0m \u001b[0membed\u001b[0m\u001b[0;34m[\u001b[0m\u001b[0;34m\"waiter\"\u001b[0m\u001b[0;34m]\u001b[0m\u001b[0;34m,\u001b[0m \u001b[0mbias_direction\u001b[0m\u001b[0;34m)\u001b[0m\u001b[0;34m)\u001b[0m\u001b[0;34m\u001b[0m\u001b[0;34m\u001b[0m\u001b[0m\n\u001b[0m\u001b[1;32m      2\u001b[0m \u001b[0mprint\u001b[0m\u001b[0;34m(\u001b[0m\u001b[0mindirect_bias\u001b[0m\u001b[0;34m(\u001b[0m\u001b[0membed\u001b[0m\u001b[0;34m[\u001b[0m\u001b[0;34m\"she\"\u001b[0m\u001b[0;34m]\u001b[0m\u001b[0;34m,\u001b[0m \u001b[0membed\u001b[0m\u001b[0;34m[\u001b[0m\u001b[0;34m\"waitress\"\u001b[0m\u001b[0;34m]\u001b[0m\u001b[0;34m,\u001b[0m \u001b[0mbias_direction\u001b[0m\u001b[0;34m)\u001b[0m\u001b[0;34m)\u001b[0m\u001b[0;34m\u001b[0m\u001b[0;34m\u001b[0m\u001b[0m\n\u001b[1;32m      3\u001b[0m \u001b[0mprint\u001b[0m\u001b[0;34m(\u001b[0m\u001b[0mindirect_bias\u001b[0m\u001b[0;34m(\u001b[0m\u001b[0membed\u001b[0m\u001b[0;34m[\u001b[0m\u001b[0;34m\"he\"\u001b[0m\u001b[0;34m]\u001b[0m\u001b[0;34m,\u001b[0m \u001b[0membed\u001b[0m\u001b[0;34m[\u001b[0m\u001b[0;34m\"waiter\"\u001b[0m\u001b[0;34m]\u001b[0m\u001b[0;34m,\u001b[0m \u001b[0mbias_direction\u001b[0m\u001b[0;34m)\u001b[0m\u001b[0;34m)\u001b[0m\u001b[0;34m\u001b[0m\u001b[0;34m\u001b[0m\u001b[0m\n\u001b[1;32m      4\u001b[0m \u001b[0mprint\u001b[0m\u001b[0;34m(\u001b[0m\u001b[0mindirect_bias\u001b[0m\u001b[0;34m(\u001b[0m\u001b[0membed\u001b[0m\u001b[0;34m[\u001b[0m\u001b[0;34m\"he\"\u001b[0m\u001b[0;34m]\u001b[0m\u001b[0;34m,\u001b[0m \u001b[0membed\u001b[0m\u001b[0;34m[\u001b[0m\u001b[0;34m\"waitress\"\u001b[0m\u001b[0;34m]\u001b[0m\u001b[0;34m,\u001b[0m \u001b[0mbias_direction\u001b[0m\u001b[0;34m)\u001b[0m\u001b[0;34m)\u001b[0m\u001b[0;34m\u001b[0m\u001b[0;34m\u001b[0m\u001b[0m\n",
      "\u001b[0;32m/opt/anaconda3/envs/EECS487proj/lib/python3.6/site-packages/gensim/models/keyedvectors.py\u001b[0m in \u001b[0;36m__getitem__\u001b[0;34m(self, key_or_keys)\u001b[0m\n\u001b[1;32m    393\u001b[0m         \"\"\"\n\u001b[1;32m    394\u001b[0m         \u001b[0;32mif\u001b[0m \u001b[0misinstance\u001b[0m\u001b[0;34m(\u001b[0m\u001b[0mkey_or_keys\u001b[0m\u001b[0;34m,\u001b[0m \u001b[0m_KEY_TYPES\u001b[0m\u001b[0;34m)\u001b[0m\u001b[0;34m:\u001b[0m\u001b[0;34m\u001b[0m\u001b[0;34m\u001b[0m\u001b[0m\n\u001b[0;32m--> 395\u001b[0;31m             \u001b[0;32mreturn\u001b[0m \u001b[0mself\u001b[0m\u001b[0;34m.\u001b[0m\u001b[0mget_vector\u001b[0m\u001b[0;34m(\u001b[0m\u001b[0mkey_or_keys\u001b[0m\u001b[0;34m)\u001b[0m\u001b[0;34m\u001b[0m\u001b[0;34m\u001b[0m\u001b[0m\n\u001b[0m\u001b[1;32m    396\u001b[0m \u001b[0;34m\u001b[0m\u001b[0m\n\u001b[1;32m    397\u001b[0m         \u001b[0;32mreturn\u001b[0m \u001b[0mvstack\u001b[0m\u001b[0;34m(\u001b[0m\u001b[0;34m[\u001b[0m\u001b[0mself\u001b[0m\u001b[0;34m.\u001b[0m\u001b[0mget_vector\u001b[0m\u001b[0;34m(\u001b[0m\u001b[0mkey\u001b[0m\u001b[0;34m)\u001b[0m \u001b[0;32mfor\u001b[0m \u001b[0mkey\u001b[0m \u001b[0;32min\u001b[0m \u001b[0mkey_or_keys\u001b[0m\u001b[0;34m]\u001b[0m\u001b[0;34m)\u001b[0m\u001b[0;34m\u001b[0m\u001b[0;34m\u001b[0m\u001b[0m\n",
      "\u001b[0;32m/opt/anaconda3/envs/EECS487proj/lib/python3.6/site-packages/gensim/models/keyedvectors.py\u001b[0m in \u001b[0;36mget_vector\u001b[0;34m(self, key, norm)\u001b[0m\n\u001b[1;32m    436\u001b[0m \u001b[0;34m\u001b[0m\u001b[0m\n\u001b[1;32m    437\u001b[0m         \"\"\"\n\u001b[0;32m--> 438\u001b[0;31m         \u001b[0mindex\u001b[0m \u001b[0;34m=\u001b[0m \u001b[0mself\u001b[0m\u001b[0;34m.\u001b[0m\u001b[0mget_index\u001b[0m\u001b[0;34m(\u001b[0m\u001b[0mkey\u001b[0m\u001b[0;34m)\u001b[0m\u001b[0;34m\u001b[0m\u001b[0;34m\u001b[0m\u001b[0m\n\u001b[0m\u001b[1;32m    439\u001b[0m         \u001b[0;32mif\u001b[0m \u001b[0mnorm\u001b[0m\u001b[0;34m:\u001b[0m\u001b[0;34m\u001b[0m\u001b[0;34m\u001b[0m\u001b[0m\n\u001b[1;32m    440\u001b[0m             \u001b[0mself\u001b[0m\u001b[0;34m.\u001b[0m\u001b[0mfill_norms\u001b[0m\u001b[0;34m(\u001b[0m\u001b[0;34m)\u001b[0m\u001b[0;34m\u001b[0m\u001b[0;34m\u001b[0m\u001b[0m\n",
      "\u001b[0;32m/opt/anaconda3/envs/EECS487proj/lib/python3.6/site-packages/gensim/models/keyedvectors.py\u001b[0m in \u001b[0;36mget_index\u001b[0;34m(self, key, default)\u001b[0m\n\u001b[1;32m    410\u001b[0m             \u001b[0;32mreturn\u001b[0m \u001b[0mdefault\u001b[0m\u001b[0;34m\u001b[0m\u001b[0;34m\u001b[0m\u001b[0m\n\u001b[1;32m    411\u001b[0m         \u001b[0;32melse\u001b[0m\u001b[0;34m:\u001b[0m\u001b[0;34m\u001b[0m\u001b[0;34m\u001b[0m\u001b[0m\n\u001b[0;32m--> 412\u001b[0;31m             \u001b[0;32mraise\u001b[0m \u001b[0mKeyError\u001b[0m\u001b[0;34m(\u001b[0m\u001b[0;34mf\"Key '{key}' not present\"\u001b[0m\u001b[0;34m)\u001b[0m\u001b[0;34m\u001b[0m\u001b[0;34m\u001b[0m\u001b[0m\n\u001b[0m\u001b[1;32m    413\u001b[0m \u001b[0;34m\u001b[0m\u001b[0m\n\u001b[1;32m    414\u001b[0m     \u001b[0;32mdef\u001b[0m \u001b[0mget_vector\u001b[0m\u001b[0;34m(\u001b[0m\u001b[0mself\u001b[0m\u001b[0;34m,\u001b[0m \u001b[0mkey\u001b[0m\u001b[0;34m,\u001b[0m \u001b[0mnorm\u001b[0m\u001b[0;34m=\u001b[0m\u001b[0;32mFalse\u001b[0m\u001b[0;34m)\u001b[0m\u001b[0;34m:\u001b[0m\u001b[0;34m\u001b[0m\u001b[0;34m\u001b[0m\u001b[0m\n",
      "\u001b[0;31mKeyError\u001b[0m: \"Key 'waiter' not present\""
     ]
    }
   ],
   "source": [
    "print(indirect_bias(embed[\"she\"], embed[\"waiter\"], bias_direction))\n",
    "print(indirect_bias(embed[\"she\"], embed[\"waitress\"], bias_direction))\n",
    "print(indirect_bias(embed[\"he\"], embed[\"waiter\"], bias_direction))\n",
    "print(indirect_bias(embed[\"he\"], embed[\"waitress\"], bias_direction))"
   ]
  },
  {
   "cell_type": "code",
   "execution_count": null,
   "metadata": {},
   "outputs": [],
   "source": [
    "# INDIRECT-BIAS\n",
    "# def indirect_bias(gender_neutral_words, theta):\n",
    "#     # gender_neutral_words: list of gender neutral words\n",
    "#     # [\"doctor\", \"teacher\",...]\n",
    "#     # theta: nd.array\n",
    "#     N = len(gender_neutral_words)\n",
    "#     bias = 0\n",
    "#     for w in gender_neutral_words:\n",
    "#         bias += cos_sim(theta, embed[w])\n",
    "#     bias /= N\n",
    "#     return bias"
   ]
  },
  {
   "cell_type": "code",
   "execution_count": 17,
   "metadata": {},
   "outputs": [],
   "source": [
    "# natural gender word\n",
    "with open(\"natural_gendered_vocab.txt\") as f:\n",
    "    natural_gender_vocab  = f.readlines()\n",
    "for idx, word in enumerate(natural_gender_vocab):\n",
    "    natural_gender_vocab[idx] = word[0:-1]\n"
   ]
  },
  {
   "cell_type": "code",
   "execution_count": null,
   "metadata": {},
   "outputs": [],
   "source": [
    "# vocab_withou_natural_gendered_words = "
   ]
  },
  {
   "cell_type": "code",
   "execution_count": 48,
   "metadata": {},
   "outputs": [],
   "source": [
    "with open(\"data/embeddings/BERTLM_ENCODER_LAYER_ONE/bert-base-uncased-embeddings.txt\", \"r\") as f:\n",
    "    lines = f.readlines()\n",
    "lines = lines[1:]"
   ]
  },
  {
   "cell_type": "code",
   "execution_count": 49,
   "metadata": {},
   "outputs": [],
   "source": [
    "d_without_natural_gendered_words = defaultdict(int)\n",
    "for line in lines:\n",
    "    split = line.split()\n",
    "    key = split[0]\n",
    "    value = split[1:]\n",
    "    value = np.array(list(map(float, value)))\n",
    "    d_without_natural_gendered_words[key] = value"
   ]
  },
  {
   "cell_type": "code",
   "execution_count": 50,
   "metadata": {},
   "outputs": [
    {
     "name": "stdout",
     "output_type": "stream",
     "text": [
      "81\n"
     ]
    }
   ],
   "source": [
    "count = 0\n",
    "for key, value in d_without_natural_gendered_words.items(): \n",
    "    if key in natural_gender_vocab:\n",
    "        count += 1\n",
    "    else:\n",
    "    # if key not in natural_gender_vocab:\n",
    "        d_without_natural_gendered_words[key] = NULL_PROJECTION.dot(value.T).T\n",
    "\n",
    "print(count)"
   ]
  },
  {
   "cell_type": "code",
   "execution_count": 51,
   "metadata": {},
   "outputs": [],
   "source": [
    "with open(\"data/embeddings/BERTLM_ENCODER_LAYER_ONE/bert-base-uncased-embeddings-debiased-without-natural-gender.txt\", \"w\") as bert_file:\n",
    "    bert_file.write(\"9794 768\\n\")\n",
    "    for key, value in d_without_natural_gendered_words.items():\n",
    "        bert_file.write(f\"{key} {' '.join(map(str, list(value)))}\\n\")"
   ]
  },
  {
   "cell_type": "code",
   "execution_count": 52,
   "metadata": {},
   "outputs": [],
   "source": [
    "BASE_PATH = \"data/embeddings\"\n",
    "DEBIASED_EMBEDDINGS_FILE_PATH = f\"{BASE_PATH}/BERTLM_ENCODER_LAYER_ONE/bert-base-uncased-embeddings-debiased-without-natural-gender.txt\"\n",
    "\n",
    "debiased_embed_without_natural_gender, _, _= load_word_vectors(fname=DEBIASED_EMBEDDINGS_FILE_PATH)"
   ]
  },
  {
   "cell_type": "code",
   "execution_count": 36,
   "metadata": {},
   "outputs": [],
   "source": [
    "def direct_bias_debiased_wo_natural_gender(gender_neutral_words, theta):\n",
    "    # gender_neutral_words: list of gender neutral words\n",
    "    # [\"doctor\", \"teacher\",...]\n",
    "    # theta: nd.array\n",
    "    # N = len(gender_neutral_words)\n",
    "    N = 0\n",
    "    bias = 0\n",
    "    for w in gender_neutral_words:\n",
    "        if w in debiased_embed_without_natural_gender.key_to_index:\n",
    "            N += 1\n",
    "            bias += cos_sim(theta, debiased_embed_without_natural_gender[w])\n",
    "    bias /= N\n",
    "    return bias"
   ]
  },
  {
   "cell_type": "code",
   "execution_count": 37,
   "metadata": {},
   "outputs": [
    {
     "data": {
      "text/plain": [
       "-4.279754778187711e-05"
      ]
     },
     "execution_count": 37,
     "metadata": {},
     "output_type": "execute_result"
    }
   ],
   "source": [
    "# print(words)\n",
    "# print(debiased_embed_without_natural_gender.key_to_index)\n",
    "direct_bias_debiased_wo_natural_gender(words, bias_direction)"
   ]
  },
  {
   "cell_type": "code",
   "execution_count": 222,
   "metadata": {},
   "outputs": [
    {
     "data": {
      "text/plain": [
       "[('guy', 0.8692551255226135),\n",
       " ('boy', 0.8468469977378845),\n",
       " ('woman', 0.8374586701393127),\n",
       " ('girlfriend', 0.8256111145019531),\n",
       " ('kid', 0.8209311366081238),\n",
       " ('nickname', 0.7994575500488281),\n",
       " ('man', 0.7934375405311584),\n",
       " ('chick', 0.7893049120903015),\n",
       " ('teenage', 0.7892447710037231),\n",
       " ('banana', 0.7854103446006775)]"
      ]
     },
     "execution_count": 222,
     "metadata": {},
     "output_type": "execute_result"
    }
   ],
   "source": [
    "\n",
    "embed.most_similar(positive=['girl'])"
   ]
  },
  {
   "cell_type": "code",
   "execution_count": 223,
   "metadata": {},
   "outputs": [
    {
     "data": {
      "text/plain": [
       "[('he', 0.9345009326934814),\n",
       " ('i', 0.8788574934005737),\n",
       " ('her', 0.8645201921463013),\n",
       " ('cookie', 0.857197642326355),\n",
       " ('cradle', 0.8511320352554321),\n",
       " ('lou', 0.8493645787239075),\n",
       " ('extremely', 0.8493454456329346),\n",
       " ('roommate', 0.8489691615104675),\n",
       " ('pan', 0.8487756848335266),\n",
       " ('hunting', 0.8482562303543091)]"
      ]
     },
     "execution_count": 223,
     "metadata": {},
     "output_type": "execute_result"
    }
   ],
   "source": [
    "embed.most_similar(positive=['she'])"
   ]
  },
  {
   "cell_type": "code",
   "execution_count": 224,
   "metadata": {},
   "outputs": [
    {
     "data": {
      "text/plain": [
       "[('queen', 0.7754306197166443),\n",
       " ('princess', 0.7402370572090149),\n",
       " ('prince', 0.7396592497825623),\n",
       " ('spouse', 0.7351313233375549),\n",
       " ('wife', 0.7235236763954163),\n",
       " ('lion', 0.719057023525238),\n",
       " ('crown', 0.7158281803131104),\n",
       " ('partner', 0.7101830840110779),\n",
       " ('knight', 0.7070295810699463),\n",
       " ('noble', 0.7017359733581543)]"
      ]
     },
     "execution_count": 224,
     "metadata": {},
     "output_type": "execute_result"
    }
   ],
   "source": [
    "embed.most_similar(positive=['woman', 'king'], negative=['man'])"
   ]
  },
  {
   "cell_type": "code",
   "execution_count": 225,
   "metadata": {},
   "outputs": [
    {
     "data": {
      "text/plain": [
       "[('queen', 0.5136861205101013),\n",
       " ('kings', 0.5069079399108887),\n",
       " ('prince', 0.43332844972610474),\n",
       " ('princess', 0.4071042537689209),\n",
       " ('spouse', 0.3630116879940033),\n",
       " ('lion', 0.3624734878540039),\n",
       " ('governor', 0.348253458738327),\n",
       " ('lady', 0.34707921743392944),\n",
       " ('husband', 0.3319151997566223),\n",
       " ('heroes', 0.3124328851699829)]"
      ]
     },
     "execution_count": 225,
     "metadata": {},
     "output_type": "execute_result"
    }
   ],
   "source": [
    "\n",
    "debiased_embed.most_similar(positive=['woman', 'king'], negative=['man'])"
   ]
  },
  {
   "cell_type": "code",
   "execution_count": 226,
   "metadata": {},
   "outputs": [
    {
     "data": {
      "text/plain": [
       "'queen'"
      ]
     },
     "execution_count": 226,
     "metadata": {},
     "output_type": "execute_result"
    }
   ],
   "source": [
    "# word analogy test\n",
    "debiased_embed_without_natural_gender.most_similar(positive=['woman', 'king'], negative=['man'])\n",
    "debiased_embed_without_natural_gender.most_similar(positive=['woman', 'king'], negative=['man'])[0][0]"
   ]
  },
  {
   "cell_type": "code",
   "execution_count": 227,
   "metadata": {},
   "outputs": [
    {
     "name": "stdout",
     "output_type": "stream",
     "text": [
      "0.8732956366921892\n"
     ]
    }
   ],
   "source": [
    "# word analogy test using a dataset\n",
    "\n",
    "# preserving the original semantics\n",
    "with open(\"questions-words.txt\") as f:\n",
    "    q_ws = f.readlines()\n",
    "count = 0\n",
    "sim_sum = 0\n",
    "for q_w in q_ws:\n",
    "    q_w = q_w.split()\n",
    "    if len(q_w) == 4:\n",
    "        word1, word2, word3, word4 = q_w   \n",
    "        if (word1 in embed.key_to_index) & (word2 in embed.key_to_index) & (word3 in embed.key_to_index) & (word4 in embed.key_to_index):\n",
    "            count += 1\n",
    "            a = embed.most_similar(positive=[word1, word4], negative=[word3])[0][0]\n",
    "            sim_sum += cos_sim(embed[a], embed[word2])\n",
    "\n",
    "sim_sum /= count\n",
    "print(sim_sum)"
   ]
  },
  {
   "cell_type": "code",
   "execution_count": 228,
   "metadata": {},
   "outputs": [
    {
     "name": "stdout",
     "output_type": "stream",
     "text": [
      "3020\n"
     ]
    }
   ],
   "source": [
    "print(count)"
   ]
  },
  {
   "cell_type": "code",
   "execution_count": 229,
   "metadata": {},
   "outputs": [
    {
     "name": "stdout",
     "output_type": "stream",
     "text": [
      "19558\n"
     ]
    }
   ],
   "source": [
    "print(len(q_ws))"
   ]
  },
  {
   "cell_type": "code",
   "execution_count": 230,
   "metadata": {},
   "outputs": [
    {
     "name": "stdout",
     "output_type": "stream",
     "text": [
      "3020\n",
      "0.705818334265168\n"
     ]
    }
   ],
   "source": [
    "with open(\"questions-words.txt\") as f:\n",
    "    q_ws = f.readlines()\n",
    "count = 0\n",
    "sim_sum = 0\n",
    "for q_w in q_ws:\n",
    "    q_w = q_w.split()\n",
    "    if len(q_w) == 4:\n",
    "        word1, word2, word3, word4 = q_w   \n",
    "        if (word1 in debiased_embed_without_natural_gender.key_to_index) & (word2 in debiased_embed_without_natural_gender.key_to_index) & (word3 in debiased_embed_without_natural_gender.key_to_index) & (word4 in debiased_embed_without_natural_gender.key_to_index):\n",
    "            count += 1\n",
    "            a = debiased_embed_without_natural_gender.most_similar(positive=[word1, word4], negative=[word3])[0][0]\n",
    "            sim_sum += cos_sim(debiased_embed_without_natural_gender[a], debiased_embed_without_natural_gender[word2])\n",
    "\n",
    "sim_sum /= count\n",
    "print(count)\n",
    "print(sim_sum)"
   ]
  },
  {
   "cell_type": "code",
   "execution_count": 231,
   "metadata": {},
   "outputs": [
    {
     "name": "stdout",
     "output_type": "stream",
     "text": [
      "3020\n",
      "0.7184189895150865\n"
     ]
    }
   ],
   "source": [
    "with open(\"questions-words.txt\") as f:\n",
    "    q_ws = f.readlines()\n",
    "count = 0\n",
    "sim_sum = 0\n",
    "for q_w in q_ws:\n",
    "    q_w = q_w.split()\n",
    "    if len(q_w) == 4:\n",
    "        word1, word2, word3, word4 = q_w   \n",
    "        if (word1 in debiased_embed.key_to_index) & (word2 in debiased_embed.key_to_index) & (word3 in debiased_embed.key_to_index) & (word4 in debiased_embed.key_to_index):\n",
    "            count += 1\n",
    "            a = debiased_embed.most_similar(positive=[word1, word4], negative=[word3])[0][0]\n",
    "            sim_sum += cos_sim(debiased_embed[a], debiased_embed[word2])\n",
    "\n",
    "sim_sum /= count\n",
    "print(count)\n",
    "print(sim_sum)"
   ]
  },
  {
   "cell_type": "code",
   "execution_count": null,
   "metadata": {},
   "outputs": [],
   "source": []
  },
  {
   "cell_type": "code",
   "execution_count": null,
   "metadata": {},
   "outputs": [],
   "source": [
    "discriminator.load_state_dict(torch.load(f\"generator_0.pt\"))"
   ]
  },
  {
   "cell_type": "code",
   "execution_count": 41,
   "metadata": {},
   "outputs": [
    {
     "data": {
      "text/plain": [
       "[('he', 0.9345009326934814),\n",
       " ('i', 0.8788574934005737),\n",
       " ('her', 0.8645201921463013),\n",
       " ('cookie', 0.857197642326355),\n",
       " ('cradle', 0.8511320352554321),\n",
       " ('lou', 0.8493645787239075),\n",
       " ('extremely', 0.8493454456329346),\n",
       " ('roommate', 0.8489691615104675),\n",
       " ('pan', 0.8487756848335266),\n",
       " ('hunting', 0.8482562303543091)]"
      ]
     },
     "execution_count": 41,
     "metadata": {},
     "output_type": "execute_result"
    }
   ],
   "source": [
    "embed.most_similar(positive=['she'])"
   ]
  },
  {
   "cell_type": "code",
   "execution_count": 42,
   "metadata": {},
   "outputs": [
    {
     "data": {
      "text/plain": [
       "[('he', 0.781117856502533),\n",
       " ('it', 0.4479445815086365),\n",
       " ('i', 0.43707892298698425),\n",
       " ('they', 0.43589672446250916),\n",
       " ('her', 0.3615175187587738),\n",
       " ('never', 0.3547224700450897),\n",
       " ('was', 0.3250300884246826),\n",
       " ('roommate', 0.3198656439781189),\n",
       " ('truly', 0.3180709183216095),\n",
       " ('what', 0.3171789348125458)]"
      ]
     },
     "execution_count": 42,
     "metadata": {},
     "output_type": "execute_result"
    }
   ],
   "source": [
    "debiased_embed.most_similar(positive=['she'])"
   ]
  },
  {
   "cell_type": "code",
   "execution_count": 57,
   "metadata": {},
   "outputs": [
    {
     "data": {
      "text/plain": [
       "[('he', 0.9345009326934814),\n",
       " ('her', 0.8645201921463013),\n",
       " ('dean', 0.847304105758667),\n",
       " ('cow', 0.8209158778190613),\n",
       " ('girlfriend', 0.8096147775650024),\n",
       " ('his', 0.807951033115387),\n",
       " ('bride', 0.7995162010192871),\n",
       " ('cowboy', 0.7987228035926819),\n",
       " ('sister', 0.797659695148468),\n",
       " ('ordinary', 0.7925541400909424)]"
      ]
     },
     "execution_count": 57,
     "metadata": {},
     "output_type": "execute_result"
    }
   ],
   "source": [
    "debiased_embed_without_natural_gender.most_similar(positive=['she'])"
   ]
  },
  {
   "cell_type": "code",
   "execution_count": 44,
   "metadata": {},
   "outputs": [
    {
     "data": {
      "text/plain": [
       "[('queen', 0.7754306197166443),\n",
       " ('princess', 0.7402370572090149),\n",
       " ('prince', 0.7396592497825623),\n",
       " ('spouse', 0.7351313233375549),\n",
       " ('wife', 0.7235236763954163),\n",
       " ('lion', 0.719057023525238),\n",
       " ('crown', 0.7158281803131104),\n",
       " ('partner', 0.7101830840110779),\n",
       " ('knight', 0.7070295810699463),\n",
       " ('noble', 0.7017359733581543)]"
      ]
     },
     "execution_count": 44,
     "metadata": {},
     "output_type": "execute_result"
    }
   ],
   "source": [
    "embed.most_similar(positive=['woman', 'king'], negative=['man'])"
   ]
  },
  {
   "cell_type": "code",
   "execution_count": 45,
   "metadata": {},
   "outputs": [
    {
     "data": {
      "text/plain": [
       "[('queen', 0.5136861205101013),\n",
       " ('kings', 0.5069079399108887),\n",
       " ('prince', 0.43332844972610474),\n",
       " ('princess', 0.4071042537689209),\n",
       " ('spouse', 0.3630116879940033),\n",
       " ('lion', 0.3624734878540039),\n",
       " ('governor', 0.348253458738327),\n",
       " ('lady', 0.34707921743392944),\n",
       " ('husband', 0.3319151997566223),\n",
       " ('heroes', 0.3124328851699829)]"
      ]
     },
     "execution_count": 45,
     "metadata": {},
     "output_type": "execute_result"
    }
   ],
   "source": [
    "debiased_embed.most_similar(positive=['woman', 'king'], negative=['man'])"
   ]
  },
  {
   "cell_type": "code",
   "execution_count": 55,
   "metadata": {},
   "outputs": [
    {
     "data": {
      "text/plain": [
       "[('queen', 0.7754306197166443),\n",
       " ('princess', 0.7402370572090149),\n",
       " ('wife', 0.7235236763954163),\n",
       " ('husband', 0.7009216547012329),\n",
       " ('lady', 0.6997972130775452),\n",
       " ('priest', 0.684046745300293),\n",
       " ('girlfriend', 0.6816965937614441),\n",
       " ('count', 0.6771528124809265),\n",
       " ('daughter', 0.675297737121582),\n",
       " ('duke', 0.6748501658439636)]"
      ]
     },
     "execution_count": 55,
     "metadata": {},
     "output_type": "execute_result"
    }
   ],
   "source": [
    "debiased_embed_without_natural_gender.most_similar(positive=['woman', 'king'], negative=['man'])"
   ]
  }
 ],
 "metadata": {
  "interpreter": {
   "hash": "9adc1b3354c003393039724f946c6835cd90536076b5c11073cb84bbf6997b79"
  },
  "kernelspec": {
   "display_name": "Python 3.6.13 ('EECS487proj')",
   "language": "python",
   "name": "python3"
  },
  "language_info": {
   "codemirror_mode": {
    "name": "ipython",
    "version": 3
   },
   "file_extension": ".py",
   "mimetype": "text/x-python",
   "name": "python",
   "nbconvert_exporter": "python",
   "pygments_lexer": "ipython3",
   "version": "3.6.13"
  },
  "orig_nbformat": 4
 },
 "nbformat": 4,
 "nbformat_minor": 2
}
